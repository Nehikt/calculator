{
 "cells": [
  {
   "cell_type": "code",
   "execution_count": 4,
   "id": "cdbb3665",
   "metadata": {},
   "outputs": [
    {
     "name": "stdout",
     "output_type": "stream",
     "text": [
      "select operation\n",
      "1.Add\n",
      "2.Subtract\n",
      "3.Multiple\n",
      "4.Divide\n",
      "enter your choice:1\n",
      "enter the first num23\n",
      "enter the first num56\n",
      "23.0 + 56.0 = 79.0\n"
     ]
    }
   ],
   "source": [
    "def add(x,y):\n",
    "    return x+y\n",
    "def sub(x,y):\n",
    "    return x-y;\n",
    "def mul(x,y):\n",
    "    return x*y;\n",
    "def div(x,y):\n",
    "    return x/y;\n",
    "print(\"select operation\")\n",
    "print(\"1.Add\")\n",
    "print(\"2.Subtract\")\n",
    "print(\"3.Multiple\")\n",
    "print(\"4.Divide\")\n",
    "\n",
    "while True:\n",
    "    choice=input(\"enter your choice:\")\n",
    "    num1=float(input(\"enter the first num\"))\n",
    "    num2=float(input(\"enter the first num\"))\n",
    "    \n",
    "    if choice=='1':\n",
    "        print(num1,'+',num2,\"=\",add(num1,num2))\n",
    "    elif choice=='2':\n",
    "        print(num1,'-',num2,\"=\",sub(num1,num2))\n",
    "    elif choice=='3':\n",
    "        print(num1,'*',num2,\"=\",mul(num1,num2))  \n",
    "    elif choice=='4':\n",
    "        print(num1,'/',num2,\"=\",div(num1,num2)) \n",
    "    else:\n",
    "        print(\"invalid input\")\n",
    "    break;  \n",
    "    \n",
    "        \n",
    "        \n",
    "    \n"
   ]
  }
 ],
 "metadata": {
  "kernelspec": {
   "display_name": "Python 3",
   "language": "python",
   "name": "python3"
  },
  "language_info": {
   "codemirror_mode": {
    "name": "ipython",
    "version": 3
   },
   "file_extension": ".py",
   "mimetype": "text/x-python",
   "name": "python",
   "nbconvert_exporter": "python",
   "pygments_lexer": "ipython3",
   "version": "3.8.8"
  }
 },
 "nbformat": 4,
 "nbformat_minor": 5
}
